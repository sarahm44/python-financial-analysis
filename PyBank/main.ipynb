{
 "cells": [
  {
   "cell_type": "code",
   "execution_count": 281,
   "id": "2aaf474f-a784-4306-b1bf-a79a152258ec",
   "metadata": {},
   "outputs": [],
   "source": [
    "# Import the pathlib and csv library\n",
    "from pathlib import Path\n",
    "import csv\n",
    "\n",
    "# Set the file path\n",
    "csvpath = Path('budget_data.csv')"
   ]
  },
  {
   "cell_type": "code",
   "execution_count": 282,
   "id": "88ba6923-822b-4eda-9933-9b5e583bea5a",
   "metadata": {},
   "outputs": [],
   "source": [
    "# Initialize variable to hold months and pnl\n",
    "month = 0\n",
    "months = []\n",
    "pnl = 0\n",
    "pnls = []\n",
    "\n",
    "# Initialize line_num variable\n",
    "line_num = 0"
   ]
  },
  {
   "cell_type": "code",
   "execution_count": 288,
   "id": "e5936328-3b68-4732-99cc-4bf2977a1e23",
   "metadata": {},
   "outputs": [
    {
     "name": "stdout",
     "output_type": "stream",
     "text": [
      "<class '_io.TextIOWrapper'>\n",
      "<class '_csv.reader'>\n",
      "['Date', 'Profit/Losses'] <---- HEADER\n",
      "['Jan-2010', '867884']\n",
      "['Feb-2010', '984655']\n",
      "['Mar-2010', '322013']\n",
      "['Apr-2010', '-69417']\n",
      "['May-2010', '310503']\n",
      "['Jun-2010', '522857']\n",
      "['Jul-2010', '1033096']\n",
      "['Aug-2010', '604885']\n",
      "['Sep-2010', '-216386']\n",
      "['Oct-2010', '477532']\n",
      "['Nov-2010', '893810']\n",
      "['Dec-2010', '-80353']\n",
      "['Jan-2011', '779806']\n",
      "['Feb-2011', '-335203']\n",
      "['Mar-2011', '697845']\n",
      "['Apr-2011', '793163']\n",
      "['May-2011', '485070']\n",
      "['Jun-2011', '584122']\n",
      "['Jul-2011', '62729']\n",
      "['Aug-2011', '668179']\n",
      "['Sep-2011', '899906']\n",
      "['Oct-2011', '834719']\n",
      "['Nov-2011', '132003']\n",
      "['Dec-2011', '309978']\n",
      "['Jan-2012', '-755566']\n",
      "['Feb-2012', '1170593']\n",
      "['Mar-2012', '252788']\n",
      "['Apr-2012', '1151518']\n",
      "['May-2012', '817256']\n",
      "['Jun-2012', '570757']\n",
      "['Jul-2012', '506702']\n",
      "['Aug-2012', '-1022534']\n",
      "['Sep-2012', '475062']\n",
      "['Oct-2012', '779976']\n",
      "['Nov-2012', '144175']\n",
      "['Dec-2012', '542494']\n",
      "['Jan-2013', '359333']\n",
      "['Feb-2013', '321469']\n",
      "['Mar-2013', '67780']\n",
      "['Apr-2013', '471435']\n",
      "['May-2013', '565603']\n",
      "['Jun-2013', '872480']\n",
      "['Jul-2013', '789480']\n",
      "['Aug-2013', '999942']\n",
      "['Sep-2013', '-1196225']\n",
      "['Oct-2013', '268997']\n",
      "['Nov-2013', '-687986']\n",
      "['Dec-2013', '1150461']\n",
      "['Jan-2014', '682458']\n",
      "['Feb-2014', '617856']\n",
      "['Mar-2014', '824098']\n",
      "['Apr-2014', '581943']\n",
      "['May-2014', '132864']\n",
      "['Jun-2014', '448062']\n",
      "['Jul-2014', '689161']\n",
      "['Aug-2014', '800701']\n",
      "['Sep-2014', '1166643']\n",
      "['Oct-2014', '947333']\n",
      "['Nov-2014', '578668']\n",
      "['Dec-2014', '988505']\n",
      "['Jan-2015', '1139715']\n",
      "['Feb-2015', '1029471']\n",
      "['Mar-2015', '687533']\n",
      "['Apr-2015', '-524626']\n",
      "['May-2015', '158620']\n",
      "['Jun-2015', '87795']\n",
      "['Jul-2015', '423389']\n",
      "['Aug-2015', '840723']\n",
      "['Sep-2015', '568529']\n",
      "['Oct-2015', '332067']\n",
      "['Nov-2015', '989499']\n",
      "['Dec-2015', '778237']\n",
      "['Jan-2016', '650000']\n",
      "['Feb-2016', '-1100387']\n",
      "['Mar-2016', '-174946']\n",
      "['Apr-2016', '757143']\n",
      "['May-2016', '445709']\n",
      "['Jun-2016', '712961']\n",
      "['Jul-2016', '-1163797']\n",
      "['Aug-2016', '569899']\n",
      "['Sep-2016', '768450']\n",
      "['Oct-2016', '102685']\n",
      "['Nov-2016', '795914']\n",
      "['Dec-2016', '60988']\n",
      "['Jan-2017', '138230']\n",
      "['Feb-2017', '671099']\n"
     ]
    }
   ],
   "source": [
    "# Open the input path as a file object\n",
    "with open(csvpath, 'r') as csvfile:\n",
    "\n",
    "    # Print the datatype of the file object\n",
    "    print(type(csvfile))\n",
    "\n",
    "    # Pass in the csv file to the csv.reader() function\n",
    "    # (with ',' as the delmiter/separator) and return the csvreader object\n",
    "    #remember csv = comma separated values\n",
    "    csvreader = csv.reader(csvfile, delimiter=',')\n",
    "    # Print the datatype of the csvreader\n",
    "    print(type(csvreader))\n",
    "\n",
    "    # Go to the next row from the start of the file\n",
    "    # (which is often the first row/header) and iterate line_num by 1\n",
    "    header = next(csvreader)\n",
    "    line_num += 1\n",
    "    # Print the header\n",
    "    print(f\"{header} <---- HEADER\")\n",
    "\n",
    "    # Read each row of data after the header\n",
    "    for row in csvreader:\n",
    "        print(row)\n",
    "    #remember row returns a list \n",
    "        # Set month variable equal to the value in the 1st column and \n",
    "        month = str(row[0])\n",
    "        # Append the row month value to the list of months\n",
    "        months.append(month)\n",
    "       \n",
    "        # Set pnls (profits and losses) variable to the value in the 2nd column\n",
    "        pnl = int(row[1])\n",
    "         # Append the row pnl value to the list of pnls\n",
    "        pnls.append(pnl)\n",
    "   "
   ]
  },
  {
   "cell_type": "code",
   "execution_count": 284,
   "id": "85efb5d6-65c9-40d9-9ef9-ac3b46d7790e",
   "metadata": {},
   "outputs": [
    {
     "name": "stdout",
     "output_type": "stream",
     "text": [
      "86\n"
     ]
    }
   ],
   "source": [
    "#Intialise variable total months\n",
    "total_months = 0\n",
    "\n",
    "# Calculate total months\n",
    "with open('budget_data.csv') as csvfile:  \n",
    "    csvreader = csv.reader(csvfile)\n",
    "\n",
    "    total_months = len(list(csvfile)) - 1\n",
    "    print(total_months)\n",
    "        "
   ]
  },
  {
   "cell_type": "code",
   "execution_count": 285,
   "id": "b9fc7af0-8b73-4847-9499-6bc6d4c5a69e",
   "metadata": {},
   "outputs": [
    {
     "name": "stdout",
     "output_type": "stream",
     "text": [
      "38382578\n"
     ]
    }
   ],
   "source": [
    "#Initialise variable net pnl\n",
    "net_pnl = 0\n",
    "\n",
    "# Calculate net_pnl by adding pnls list\n",
    "net_pnl =sum(pnls)\n",
    "print(net_pnl)"
   ]
  },
  {
   "cell_type": "code",
   "execution_count": 296,
   "id": "bc49e133-d672-41b7-aaa1-1f68463dfa94",
   "metadata": {},
   "outputs": [
    {
     "name": "stdout",
     "output_type": "stream",
     "text": [
      "172\n"
     ]
    }
   ],
   "source": [
    "#Initialise variables for pnl change list\n",
    "pnl_change = []\n",
    "pnl = 0\n",
    "pnl_range_max = len(pnls)\n",
    "print(pnl_range_max)"
   ]
  },
  {
   "cell_type": "code",
   "execution_count": 297,
   "id": "3d8b090f-f9f2-43c2-875d-1b9fb307c733",
   "metadata": {},
   "outputs": [
    {
     "name": "stdout",
     "output_type": "stream",
     "text": [
      "[116771, -662642, -391430, 379920, 212354, 510239, -428211, -821271, 693918, 416278, -974163, 860159, -1115009, 1033048, 95318, -308093, 99052, -521393, 605450, 231727, -65187, -702716, 177975, -1065544, 1926159, -917805, 898730, -334262, -246499, -64055, -1529236, 1497596, 304914, -635801, 398319, -183161, -37864, -253689, 403655, 94168, 306877, -83000, 210462, -2196167, 1465222, -956983, 1838447, -468003, -64602, 206242, -242155, -449079, 315198, 241099, 111540, 365942, -219310, -368665, 409837, 151210, -110244, -341938, -1212159, 683246, -70825, 335594, 417334, -272194, -236462, 657432, -211262, -128237, -1750387, 925441, 932089, -311434, 267252, -1876758, 1733696, 198551, -665765, 693229, -734926, 77242, 532869, 196785, 116771, -662642, -391430, 379920, 212354, 510239, -428211, -821271, 693918, 416278, -974163, 860159, -1115009, 1033048, 95318, -308093, 99052, -521393, 605450, 231727, -65187, -702716, 177975, -1065544, 1926159, -917805, 898730, -334262, -246499, -64055, -1529236, 1497596, 304914, -635801, 398319, -183161, -37864, -253689, 403655, 94168, 306877, -83000, 210462, -2196167, 1465222, -956983, 1838447, -468003, -64602, 206242, -242155, -449079, 315198, 241099, 111540, 365942, -219310, -368665, 409837, 151210, -110244, -341938, -1212159, 683246, -70825, 335594, 417334, -272194, -236462, 657432, -211262, -128237, -1750387, 925441, 932089, -311434, 267252, -1876758, 1733696, 198551, -665765, 693229, -734926, 77242, 532869]\n"
     ]
    }
   ],
   "source": [
    "#Create pnl change list\n",
    "for pnl in range(1,pnl_range_max):\n",
    "    x = pnls[pnl] - pnls[pnl - 1]\n",
    "    pnl_change.append(int(x))\n",
    "    \n",
    "# print(pnl_change)\n",
    "print(pnl_change)"
   ]
  },
  {
   "cell_type": "code",
   "execution_count": 300,
   "id": "2d7f4068-82cc-49ae-b047-93bd0fd770de",
   "metadata": {},
   "outputs": [
    {
     "name": "stdout",
     "output_type": "stream",
     "text": [
      "-2315.1176470588234\n"
     ]
    }
   ],
   "source": [
    "#calculate average pnl change\n",
    "average_pnl_change = sum(pnl_change) / 85 #divide by 85 as this is no of items in list\n",
    "print(average_pnl_change)"
   ]
  },
  {
   "cell_type": "code",
   "execution_count": 301,
   "id": "751b985c-cd1e-4d46-83fe-e1076d090d19",
   "metadata": {},
   "outputs": [
    {
     "name": "stdout",
     "output_type": "stream",
     "text": [
      "1926159\n",
      "-2196167\n"
     ]
    }
   ],
   "source": [
    "#Initialise variables for min change and max change\n",
    "max_change = 0\n",
    "min_change = 0\n",
    "\n",
    "     # Calculate greatest increase\n",
    "max_change = max(pnl_change)\n",
    "print(max_change)\n",
    "    \n",
    "    # Calculate greatest decrease\n",
    "min_change = min(pnl_change)\n",
    "print(min_change)"
   ]
  },
  {
   "cell_type": "code",
   "execution_count": 320,
   "id": "4f3427f8-d4bd-46fa-b002-d03c6954fc89",
   "metadata": {},
   "outputs": [
    {
     "name": "stdout",
     "output_type": "stream",
     "text": [
      "Feb-2012\n",
      "Sep-2013\n"
     ]
    }
   ],
   "source": [
    "#Find dates for min change and max change\n",
    "max_change_index = pnl_change.index(max_change)\n",
    "min_change_index = pnl_change.index(min_change)\n",
    "\n",
    "max_change_date = months[max_change_index +1]\n",
    "min_change_date = months[min_change_index +1]\n",
    "\n",
    "print(max_change_date)\n",
    "print(min_change_date)"
   ]
  },
  {
   "cell_type": "code",
   "execution_count": 313,
   "id": "375d8673-1dae-42b0-a0d4-52d2be99298f",
   "metadata": {},
   "outputs": [
    {
     "data": {
      "text/plain": [
       "int"
      ]
     },
     "execution_count": 313,
     "metadata": {},
     "output_type": "execute_result"
    }
   ],
   "source": [
    "#Check variable types\n",
    "type(total_months)\n",
    "type(net_pnl)\n",
    "type(average_pnl_change)\n",
    "type(max_change)\n",
    "type(min_change)"
   ]
  },
  {
   "cell_type": "code",
   "execution_count": 319,
   "id": "7962b0f4-95b6-4039-bc89-e84f6887f289",
   "metadata": {},
   "outputs": [],
   "source": [
    "#Output to txt\n",
    "output_path = Path('Financial_Analysis.txt')\n",
    "\n",
    "with open(output_path, 'w') as file:\n",
    "    file.write(f\"Financial Analysis\\n\")\n",
    "    file.write(f\"----------------------------\\n\")\n",
    "    file.write(f\"Total Months: {total_months} \\n\")\n",
    "    file.write(f\"Total: ${net_pnl}\\n\")\n",
    "    file.write(f\"Average Change: ${average_pnl_change}\\n\")\n",
    "    file.write(f\"Greatest Increase in Profits: {max_change_date} (${max_change}) \\n\")\n",
    "    file.write(f\"Greatest Decrease in Profits: {min_change_date} (${min_change}) \\n\")"
   ]
  },
  {
   "cell_type": "code",
   "execution_count": null,
   "id": "f91c36f7-8eff-45c7-bb9f-14878179892c",
   "metadata": {},
   "outputs": [],
   "source": []
  }
 ],
 "metadata": {
  "kernelspec": {
   "display_name": "Python 3 (ipykernel)",
   "language": "python",
   "name": "python3"
  },
  "language_info": {
   "codemirror_mode": {
    "name": "ipython",
    "version": 3
   },
   "file_extension": ".py",
   "mimetype": "text/x-python",
   "name": "python",
   "nbconvert_exporter": "python",
   "pygments_lexer": "ipython3",
   "version": "3.7.11"
  }
 },
 "nbformat": 4,
 "nbformat_minor": 5
}
